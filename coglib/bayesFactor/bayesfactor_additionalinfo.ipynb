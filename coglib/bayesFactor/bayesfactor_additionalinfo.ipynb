{
 "cells": [
  {
   "cell_type": "markdown",
   "metadata": {},
   "source": [
    "# Computing Bayes factor\n",
    "\n",
    "A Bayes factor is a metric to compare the amount of evidence for a given hypothesis relative to another. The Bayes theorem is as follows:\n",
    "\n",
    "$$\n",
    "P(\\Theta|y) = \\frac{P(y|\\Theta)P(\\Theta)}{P(y)}\n",
    "$$\n",
    "\n",
    "Where:\n",
    "- $P(\\Theta|y)$ is the posterior distribution of the probability of the values of our parameters of interest given the data we have observed\n",
    "- $P(y|\\Theta)$ is the likelihood of our data given the parameters of interest\n",
    "- $P(\\Theta)$ is the prior distribution of those parameters\n",
    "- $P(y)$ is the model evidence\n",
    "\n",
    "The model evidence depends on both the likelihood of the data and the prior, because it is computed as:\n",
    "\n",
    "$$\n",
    "P(y) = \\int P(y|\\Theta)P(\\Theta)d\\Theta\n",
    "$$\n",
    "\n",
    "In other words, to computhe model evidence, we need to integrate the probability of the likelihood times the prior for every possible values of $Theta$. In the Bayesian framework, comparing two hypotheses (or models) consists in taking the ratio of the evidence $P(y)$ for each of these models. Hypotheses are stated as different prior distributions, and the bayes factor is calculated as:\n",
    "\n",
    "$$\n",
    "BF_{01} = \\frac{P(y|M_0)}{P(y|M_1)}\n",
    "$$\n",
    "\n",
    "Where $P(y|M_0)$ and $P(y|M_1)$ are the model evidence given the prior of hypothesis 0 and hypothesis 1 respectively.\n",
    "\n",
    "In null hypothesis statistical testing (NHST), we are comparing a null hypothesis about the absence of an effect, against the alternative hypothesis of the presence of an effect, or the presence of an effect in a particular direction. The closest approach in a Bayesian framework is to compute the Bayes factor between a 'point null hypothesis', which states that the probability of getting an effect equal to 0 is 1 (i.e. null hypothesis), against an alternative hypothesis that specifies a less constrained prior, such that values others than 0 do not have a probability of 0 (as is the case in the null hypothesis). There are many ways to specify this alternative hypothesis: it can be a uniform prior (i.e. all values are equally likely), a signed prior (positive effects are more likely than negative effect, which would be similar to a signed frequentist test), a weakly informative prior that states that very extreme values are less likely, or informed by knowledge in the field.\n",
    "\n",
    "One of the issue to compute the Bayes factor is that because of the integral, there is often no analytical solution to compute the model evidence under each prior, in which case it is not possible to compute the ration between two hypotheses. Thankfully, for very standard frequentist tests, statisticians have been able to resolve this issue on the case by case and find analytical solution to compute a Bayes factor that is equivalent to the kind of tests performed in NHST. In this repo, we will present Bayes factors calculations for the following tests:\n",
    "\n",
    "- Binomial test: test whether decoding accuracy in a single subject is significantly* above chance (iEEG)\n",
    "- JZS Bayes t-test: test whether the difference between two groups (paired or not) is significantly* above chance (MEEG: group level decoding, synchrony...)\n",
    "- Kendall's tau Bayes factors: test the correlation between an observed and model matrix as in the case of the RSA (iEEG and maybe MEG)\n",
    "\n",
    "* The term significantly is here used colloquially, as the term 'significance' is tied to NHST, not Bayesian inference. In the case of Bayesian inference though, we would typically use some arbitrary thresholding to decide what to consider relevant (BF > 3)"
   ]
  },
  {
   "cell_type": "markdown",
   "metadata": {},
   "source": [
    "# Binomial test\n",
    "In the case of the binomial test, there is an analytical solution to the model evidence. In the case of a binomial test, we want to infer the probability of success (probability of correctly predicting the target label) based on our observed number of success. With this model, the likelihood is a binomial distribution, and the prior is a beta distribution. The integral of a binomial distribution multiplied by a beta distribution simplifies to:\n",
    "\n",
    "$$p(y) = \\binom{N}{k} \\frac{\\boldsymbol{B}(\\alpha + h, \\beta + n - h)}{\\boldsymbol{\\alpha, \\beta}}$$\n",
    "\n",
    "Where:\n",
    "- $\\boldsymbol{B}$ is the beta function\n",
    "- $n$ is the number of trials\n",
    "- $h$ is the number of success\n",
    "\n",
    "When computing the Bayes factor, we take the ration $\\frac{p(y|M_0)}{p(y|M_1)}$. For both models, the $\\binom{N}{k}$ term is the same, so we can omit it, since it will cancel out. So we can write the simplified formulae of the model evidence as:"
   ]
  },
  {
   "cell_type": "code",
   "execution_count": 2,
   "metadata": {},
   "outputs": [],
   "source": [
    "from scipy.special import betaln\n",
    "from scipy.stats import beta\n",
    "import numpy as np\n",
    "import matplotlib.pyplot as plt\n",
    "\n",
    "\n",
    "def beta_binom(prior, y):\n",
    "    \"\"\"\n",
    "    Compute the marginal likelihood, analytically, for a beta-binomial model.\n",
    "\n",
    "    prior : tuple\n",
    "        tuple of alpha and beta parameter for the prior (beta distribution)\n",
    "    y : array\n",
    "        array with \"1\" and \"0\" corresponding to the success and fails respectively\n",
    "    \"\"\"\n",
    "    alpha, beta = prior\n",
    "    h = np.sum(y)\n",
    "    n = len(y)\n",
    "    p_y = np.exp(betaln(alpha + h, beta + n - h) - betaln(alpha, beta))\n",
    "    return p_y"
   ]
  },
  {
   "cell_type": "markdown",
   "metadata": {},
   "source": [
    "Now we only need to select our priors on the beta distribution to have the null hypothesis being 0 and the alternative being a uniform prior:"
   ]
  },
  {
   "cell_type": "code",
   "execution_count": 6,
   "metadata": {},
   "outputs": [
    {
     "data": {
      "image/png": "[encoded data removed]",
      "text/plain": [
       "<Figure size 640x480 with 1 Axes>"
      ]
     },
     "metadata": {},
     "output_type": "display_data"
    }
   ],
   "source": [
    "y = np.repeat([1, 0], [50, 50])  # 50 \"heads\" and 50 \"tails\"\n",
    "priors = ((1, 1), (4,  2))\n",
    "\n",
    "for a, b in priors:\n",
    "    distri = beta(a, b)\n",
    "    x = np.linspace(0, 1, 300)\n",
    "    x_pdf = distri.pdf(x)\n",
    "    plt.plot(x, x_pdf, label=rf\"$\\alpha$ = {a:d}, $\\beta$ = {b:d}\")\n",
    "    plt.yticks([])\n",
    "    plt.xlabel(\"$\\\\theta$\")\n",
    "    plt.legend()"
   ]
  }
 ],
 "metadata": {
  "kernelspec": {
   "display_name": "env",
   "language": "python",
   "name": "python3"
  },
  "language_info": {
   "codemirror_mode": {
    "name": "ipython",
    "version": 3
   },
   "file_extension": ".py",
   "mimetype": "text/x-python",
   "name": "python",
   "nbconvert_exporter": "python",
   "pygments_lexer": "ipython3",
   "version": "3.13.0"
  }
 },
 "nbformat": 4,
 "nbformat_minor": 2
}
